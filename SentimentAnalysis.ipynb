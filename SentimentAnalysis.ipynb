{
  "nbformat": 4,
  "nbformat_minor": 0,
  "metadata": {
    "colab": {
      "name": "SentimentAnalysis.ipynb",
      "provenance": [],
      "authorship_tag": "ABX9TyNl1TSmTa0W1GP4uRl31qdQ",
      "include_colab_link": true
    },
    "kernelspec": {
      "name": "python3",
      "display_name": "Python 3"
    },
    "accelerator": "GPU"
  },
  "cells": [
    {
      "cell_type": "markdown",
      "metadata": {
        "id": "view-in-github",
        "colab_type": "text"
      },
      "source": [
        "<a href=\"https://colab.research.google.com/github/riak16/Sentiment-Analysis-Using-LSTMs/blob/master/SentimentAnalysis.ipynb\" target=\"_parent\"><img src=\"https://colab.research.google.com/assets/colab-badge.svg\" alt=\"Open In Colab\"/></a>"
      ]
    },
    {
      "cell_type": "code",
      "metadata": {
        "id": "P7hS7OUfD1--",
        "colab_type": "code",
        "colab": {}
      },
      "source": [
        "\n",
        "from sklearn.model_selection import train_test_split\n",
        "from sklearn.preprocessing import LabelBinarizer, LabelEncoder\n",
        "import tensorflow as tf \n",
        "import numpy as np\n",
        "from tensorflow.keras.preprocessing import sequence\n",
        "from numpy import array\n",
        "from sklearn.metrics import accuracy_score\n"
      ],
      "execution_count": 0,
      "outputs": []
    },
    {
      "cell_type": "code",
      "metadata": {
        "id": "xaDayN-SKXN9",
        "colab_type": "code",
        "colab": {}
      },
      "source": [
        "from keras.datasets import imdb"
      ],
      "execution_count": 0,
      "outputs": []
    },
    {
      "cell_type": "code",
      "metadata": {
        "id": "EpSMdS9uK-zn",
        "colab_type": "code",
        "colab": {}
      },
      "source": [
        "vocabSize = 5000\n",
        "(dataTrain, labelTrain), (dataTest, labelTest) = imdb.load_data(num_words = vocabSize)"
      ],
      "execution_count": 0,
      "outputs": []
    },
    {
      "cell_type": "code",
      "metadata": {
        "id": "s0IoOB-kP82c",
        "colab_type": "code",
        "outputId": "bd99ce49-0f85-4312-e216-676eb96dec24",
        "colab": {
          "base_uri": "https://localhost:8080/",
          "height": 87
        }
      },
      "source": [
        "print(\"Shape of dataTrain: \" + str(dataTrain.shape))\n",
        "print(\"Shape of dataTest: \" + str(dataTest.shape))\n",
        "print(\"Shape of labelTrain: \" + str(labelTrain.shape))\n",
        "print(\"Shape of labelTest: \" + str(labelTest.shape))"
      ],
      "execution_count": 0,
      "outputs": [
        {
          "output_type": "stream",
          "text": [
            "Shape of dataTrain: (25000,)\n",
            "Shape of dataTest: (25000,)\n",
            "Shape of labelTrain: (25000,)\n",
            "Shape of labelTest: (25000,)\n"
          ],
          "name": "stdout"
        }
      ]
    },
    {
      "cell_type": "code",
      "metadata": {
        "id": "3T8F-CJ8QqeQ",
        "colab_type": "code",
        "outputId": "b6c0107b-014a-4988-e435-bfd370932b71",
        "colab": {
          "base_uri": "https://localhost:8080/",
          "height": 87
        }
      },
      "source": [
        "reviewLength = 500\n",
        "\n",
        "dataTrain = sequence.pad_sequences(dataTrain, maxlen = reviewLength)\n",
        "dataTest = sequence.pad_sequences(dataTest, maxlen= reviewLength)\n",
        "\n",
        "print(\"Shape of dataTrain: \" + str(dataTrain.shape))\n",
        "print(\"Shape of dataTest: \" + str(dataTest.shape))\n",
        "print(\"Shape of labelTrain: \" + str(labelTrain.shape))\n",
        "print(\"Shape of labelTest: \" + str(labelTest.shape))\n"
      ],
      "execution_count": 0,
      "outputs": [
        {
          "output_type": "stream",
          "text": [
            "Shape of dataTrain: (25000, 500)\n",
            "Shape of dataTest: (25000, 500)\n",
            "Shape of labelTrain: (25000,)\n",
            "Shape of labelTest: (25000,)\n"
          ],
          "name": "stdout"
        }
      ]
    },
    {
      "cell_type": "code",
      "metadata": {
        "id": "IEBC-3dkiRC-",
        "colab_type": "code",
        "outputId": "760223a6-2d13-4de2-aefe-25912d1be766",
        "colab": {
          "base_uri": "https://localhost:8080/",
          "height": 399
        }
      },
      "source": [
        "model = tf.keras.models.Sequential()\n",
        "# This is to create word embeddings(eg glove, word2Vec), \n",
        "# input is #words in vocab = vocabSize, output is size of our word embedding = hyper-parameter\n",
        "# input_length is the size of our final review vector = # words in a review. \n",
        "model.add(tf.keras.layers.Embedding(input_dim = vocabSize, output_dim = 32, input_length = reviewLength))\n",
        "model.add(tf.keras.layers.Dropout(rate = 0.3))\n",
        "model.add(tf.keras.layers.Bidirectional(tf.keras.layers.LSTM(units = 32, dropout=0.4)))\n",
        "model.add(tf.keras.layers.Dropout(rate = 0.4))\n",
        "model.add(tf.keras.layers.Dense(units = 10, activation = 'relu'))\n",
        "model.add(tf.keras.layers.Dropout(rate = 0.2))\n",
        "model.add(tf.keras.layers.Dense(units = 1, activation = 'sigmoid'))\n",
        "model.compile(loss = tf.keras.losses.binary_crossentropy,\n",
        "              optimizer = tf.keras.optimizers.Adam(),\n",
        "              metrics = ['accuracy'])\n",
        "\n",
        "model.summary()"
      ],
      "execution_count": 0,
      "outputs": [
        {
          "output_type": "stream",
          "text": [
            "Model: \"sequential_27\"\n",
            "_________________________________________________________________\n",
            "Layer (type)                 Output Shape              Param #   \n",
            "=================================================================\n",
            "embedding_26 (Embedding)     (None, 500, 32)           160000    \n",
            "_________________________________________________________________\n",
            "dropout_45 (Dropout)         (None, 500, 32)           0         \n",
            "_________________________________________________________________\n",
            "bidirectional_4 (Bidirection (None, 64)                16640     \n",
            "_________________________________________________________________\n",
            "dropout_46 (Dropout)         (None, 64)                0         \n",
            "_________________________________________________________________\n",
            "dense_20 (Dense)             (None, 10)                650       \n",
            "_________________________________________________________________\n",
            "dropout_47 (Dropout)         (None, 10)                0         \n",
            "_________________________________________________________________\n",
            "dense_21 (Dense)             (None, 1)                 11        \n",
            "=================================================================\n",
            "Total params: 177,301\n",
            "Trainable params: 177,301\n",
            "Non-trainable params: 0\n",
            "_________________________________________________________________\n"
          ],
          "name": "stdout"
        }
      ]
    },
    {
      "cell_type": "code",
      "metadata": {
        "id": "QG6toTdTHP3o",
        "colab_type": "code",
        "outputId": "241ca401-d796-4972-9241-06593294ce1f",
        "colab": {
          "base_uri": "https://localhost:8080/",
          "height": 533
        }
      },
      "source": [
        "tf.keras.utils.plot_model(model, show_shapes=True, show_layer_names=False)"
      ],
      "execution_count": 0,
      "outputs": [
        {
          "output_type": "execute_result",
          "data": {
            "image/png": "[encoded data removed]",
            "text/plain": [
              "<IPython.core.display.Image object>"
            ]
          },
          "metadata": {
            "tags": []
          },
          "execution_count": 57
        }
      ]
    },
    {
      "cell_type": "code",
      "metadata": {
        "id": "0JDyc25QI9qa",
        "colab_type": "code",
        "outputId": "01d1f230-4520-4e78-88f6-fa674231942a",
        "colab": {
          "base_uri": "https://localhost:8080/",
          "height": 191
        }
      },
      "source": [
        "trainer = model.fit(x=dataTrain, y=labelTrain, batch_size=256, epochs=5, validation_split=0.2, verbose=2)"
      ],
      "execution_count": 0,
      "outputs": [
        {
          "output_type": "stream",
          "text": [
            "Epoch 1/5\n",
            "79/79 - 7s - loss: 0.6753 - accuracy: 0.5739 - val_loss: 0.5507 - val_accuracy: 0.7860\n",
            "Epoch 2/5\n",
            "79/79 - 7s - loss: 0.4247 - accuracy: 0.8224 - val_loss: 0.3230 - val_accuracy: 0.8660\n",
            "Epoch 3/5\n",
            "79/79 - 7s - loss: 0.3142 - accuracy: 0.8834 - val_loss: 0.2861 - val_accuracy: 0.8814\n",
            "Epoch 4/5\n",
            "79/79 - 7s - loss: 0.2744 - accuracy: 0.9010 - val_loss: 0.3097 - val_accuracy: 0.8712\n",
            "Epoch 5/5\n",
            "79/79 - 7s - loss: 0.2571 - accuracy: 0.9071 - val_loss: 0.2984 - val_accuracy: 0.8818\n"
          ],
          "name": "stdout"
        }
      ]
    },
    {
      "cell_type": "code",
      "metadata": {
        "id": "8Uf9iJAZLnSQ",
        "colab_type": "code",
        "outputId": "73d7a331-3425-4bee-eafe-f3f1fc67b0af",
        "colab": {
          "base_uri": "https://localhost:8080/",
          "height": 191
        }
      },
      "source": [
        "from sklearn.metrics import classification_report\n",
        "classNames = [\"Negative\", \"Positive\"]\n",
        "predictions = model.predict_classes(dataTest)\n",
        "print(classification_report(labelTest, predictions, target_names= classNames))\n",
        "print(accuracy_score(labelTest, predictions,normalize=True))"
      ],
      "execution_count": 0,
      "outputs": [
        {
          "output_type": "stream",
          "text": [
            "              precision    recall  f1-score   support\n",
            "\n",
            "    Negative       0.85      0.92      0.88     12500\n",
            "    Positive       0.91      0.84      0.87     12500\n",
            "\n",
            "    accuracy                           0.88     25000\n",
            "   macro avg       0.88      0.88      0.88     25000\n",
            "weighted avg       0.88      0.88      0.88     25000\n",
            "\n",
            "0.87616\n"
          ],
          "name": "stdout"
        }
      ]
    },
    {
      "cell_type": "code",
      "metadata": {
        "id": "jRhABkniNGi6",
        "colab_type": "code",
        "colab": {}
      },
      "source": [
        ""
      ],
      "execution_count": 0,
      "outputs": []
    }
  ]
}